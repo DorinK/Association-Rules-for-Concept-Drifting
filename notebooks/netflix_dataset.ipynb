{
 "cells": [
  {
   "cell_type": "markdown",
   "metadata": {
    "tags": []
   },
   "source": [
    "# Init\n"
   ]
  },
  {
   "cell_type": "code",
   "execution_count": null,
   "metadata": {
    "tags": []
   },
   "outputs": [],
   "source": [
    "# Install necessary requirements\n",
    "%pip install -r ../requirements.txt\n",
    "\n",
    "# Change working directory to root\n",
    "import os\n",
    "if os.getcwd().endswith(\"notebooks\"):\n",
    "    %cd ..\n",
    "    print(os.getcwd())\n",
    "\n",
    "# Automatically reload changes in code\n",
    "%load_ext autoreload\n",
    "%autoreload 2"
   ]
  },
  {
   "cell_type": "code",
   "execution_count": null,
   "metadata": {
    "tags": []
   },
   "outputs": [],
   "source": [
    "import logging\n",
    "from typing import List\n",
    "\n",
    "import pandas as pd\n",
    "\n",
    "from association_finder.concept_drifts_finder import ConceptDriftsFinder\n",
    "from association_finder.models import Transaction, ConceptDriftResult\n",
    "logging.basicConfig()"
   ]
  },
  {
   "cell_type": "markdown",
   "metadata": {},
   "source": [
    "# Read and parse file"
   ]
  },
  {
   "cell_type": "code",
   "execution_count": null,
   "metadata": {
    "tags": []
   },
   "outputs": [],
   "source": [
    "from sklearn.model_selection import train_test_split\n",
    "from typing import Dict, Tuple, Optional\n",
    "from dataclasses import dataclass\n",
    "from association_finder.preprocessing import preprocess_dataset, split_X_y\n",
    "import numpy as np\n",
    "\n",
    "np.random.seed(0)\n",
    "\n",
    "train_dataset_path = \"datasets/netflix_data/netflix-rotten-tomatoes-metacritic-imdb.csv\"\n",
    "# df = pd.read_csv(train_dataset_path)\n",
    "df = pd.read_csv(train_dataset_path, index_col='Title')\n",
    "\n",
    "df_train, df_val = train_test_split(df, test_size=0.3)\n",
    "\n",
    "df_train_prep, train_params = preprocess_dataset(df_train)\n",
    "\n",
    "# Focusing on prominent non-textual columns:\n",
    "good_columns = ['Genre', 'Languages', 'Series or Movie', 'Hidden Gem Score','Country Availability','Runtime',\n",
    "                'Director', 'Writer', 'View Rating', 'IMDb Score', 'Rotten Tomatoes Score','Metacritic Score',\n",
    "               'Awards Received','Awards Nominated For','Release Date','Netflix Release Date','IMDb Votes']\n",
    "                #'Summary','Production House','Actors','Tags','Boxoffice',\n",
    "\n",
    "target_column = 'Hidden Gem Score' # TODO: What is the target column?? Is it Hidden Gem Score?\n",
    "\n",
    "one_hot_columns =  [column for column in ['Genre','Languages','Series or Movie','Country Availability','Runtime','Director','Writer','View Rating',\n",
    "                  'Release Date','Netflix Release Date']  if column not in train_params.dropped_columns]#'Boxoffice',\n"
   ]
  },
  {
   "cell_type": "markdown",
   "metadata": {},
   "source": [
    "# Baseline"
   ]
  },
  {
   "cell_type": "code",
   "execution_count": null,
   "metadata": {
    "tags": []
   },
   "outputs": [],
   "source": [
    "from sklearn.linear_model import LogisticRegression\n",
    "from typing import Tuple\n",
    "\n",
    "X_train, y_train = split_X_y(df_train_prep, good_columns, train_params, one_hot_columns, target_column)\n",
    "X_val, y_val = split_X_y(preprocess_dataset(df_val, train_params)[0], good_columns, train_params, one_hot_columns, target_column)\n",
    "\n",
    "clf = LogisticRegression(random_state=0, max_iter=10000).fit(X_train, y_train)\n"
   ]
  },
  {
   "cell_type": "code",
   "execution_count": null,
   "metadata": {
    "tags": []
   },
   "outputs": [],
   "source": [
    "print(f\"Train accuracy: {clf.score(X_train, y_train)}\")\n",
    "print(f\"Validation accuracy: {clf.score(X_val, y_val)}\")"
   ]
  },
  {
   "cell_type": "markdown",
   "metadata": {},
   "source": [
    "# Build model using rules"
   ]
  },
  {
   "cell_type": "code",
   "execution_count": null,
   "metadata": {
    "tags": []
   },
   "outputs": [],
   "source": [
    "from association_finder.concept_engineering import ConceptEngineering\n",
    "\n",
    "concept_engineering = ConceptEngineering()\n",
    "columns_to_use = list(set(good_columns) - set(train_params.dropped_columns))\n",
    "X_train_rules = concept_engineering.fit_transform(X_train, df_train_prep[columns_to_use], target_column, one_hot_columns)\n",
    "X_val_rules = concept_engineering.transform(X_val)\n",
    "\n",
    "clf_rules = LogisticRegression(random_state=0, max_iter=10000).fit(X_train_rules, y_train)\n",
    "\n",
    "print(f\"Train accuracy: {clf_rules.score(X_train_rules, y_train)}\")\n",
    "print(f\"Validation accuracy: {clf_rules.score(X_val_rules, y_val)}\")"
   ]
  },
  {
   "cell_type": "markdown",
   "metadata": {},
   "source": [
    "# Analyze concepts"
   ]
  },
  {
   "cell_type": "code",
   "execution_count": null,
   "metadata": {},
   "outputs": [],
   "source": [
    "pd.set_option(\"display.max_columns\", None)\n",
    "pd.set_option(\"display.max_rows\", 100)\n",
    "concept_engineering.concepts_df"
   ]
  }
 ],
 "metadata": {
  "kernelspec": {
   "display_name": "Python 3 (ipykernel)",
   "language": "python",
   "name": "python3"
  },
  "language_info": {
   "codemirror_mode": {
    "name": "ipython",
    "version": 3
   },
   "file_extension": ".py",
   "mimetype": "text/x-python",
   "name": "python",
   "nbconvert_exporter": "python",
   "pygments_lexer": "ipython3",
   "version": "3.8.12"
  }
 },
 "nbformat": 4,
 "nbformat_minor": 4
}
