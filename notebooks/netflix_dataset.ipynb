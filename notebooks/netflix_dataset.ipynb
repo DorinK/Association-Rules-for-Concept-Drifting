{
 "cells": [
  {
   "cell_type": "markdown",
   "metadata": {
    "tags": []
   },
   "source": [
    "# Init\n"
   ]
  },
  {
   "cell_type": "code",
   "execution_count": null,
   "metadata": {
    "tags": []
   },
   "outputs": [],
   "source": [
    "# Install necessary requirements\n",
    "%pip install -r ../requirements.txt\n",
    "\n",
    "# Change working directory to root\n",
    "import os\n",
    "if os.getcwd().endswith(\"notebooks\"):\n",
    "    %cd ..\n",
    "    print(os.getcwd())\n",
    "\n",
    "# Automatically reload changes in code\n",
    "%load_ext autoreload\n",
    "%autoreload 2"
   ]
  },
  {
   "cell_type": "code",
   "execution_count": null,
   "metadata": {
    "tags": []
   },
   "outputs": [],
   "source": [
    "import logging\n",
    "from typing import List\n",
    "\n",
    "import pandas as pd\n",
    "\n",
    "from association_finder.concept_drifts_finder import ConceptDriftsFinder\n",
    "from association_finder.models import Transaction, ConceptDriftResult\n",
    "logging.basicConfig()"
   ]
  },
  {
   "cell_type": "markdown",
   "metadata": {},
   "source": [
    "# Read and parse file"
   ]
  },
  {
   "cell_type": "code",
   "execution_count": null,
   "metadata": {},
   "outputs": [],
   "source": [
    "from sklearn.model_selection import train_test_split\n",
    "from typing import Dict, Tuple, Optional\n",
    "from dataclasses import dataclass\n",
    "import numpy as np\n",
    "\n",
    "np.random.seed(0)\n",
    "\n",
    "train_dataset_path = \"datasets/netflix_data/netflix-rotten-tomatoes-metacritic-imdb.csv\"\n",
    "# df = pd.read_csv(train_dataset_path)\n",
    "df = pd.read_csv(train_dataset_path, index_col='Title')\n",
    "\n",
    "# df.drop('Boxoffice', inplace=True, axis=1)\n",
    "\n",
    "df_train, df_val = train_test_split(df, test_size=0.3)\n",
    "\n",
    "@dataclass\n",
    "class TrainParams:\n",
    "    \n",
    "    na_columns_mean: Dict[int, float]\n",
    "    numerical_columns_cut: Dict[str, List[float]]\n",
    "    # dropped_columns: List[str] = None\n",
    "    \n",
    "        \n",
    "def preprocess(df, train_params: Optional[TrainParams] = None):\n",
    "    \n",
    "    # Defining numeric and categorical columns\n",
    "    numeric_columns = df.dtypes[(df.dtypes == \"float64\") | (df.dtypes == \"int64\")].index.tolist()\n",
    "    very_numerical = [nc for nc in numeric_columns if df[nc].nunique() > 20]\n",
    "    categorical_columns = [c for c in df.columns if c not in numeric_columns]\n",
    "    ordinals = list(set(numeric_columns) - set(very_numerical))\n",
    "\n",
    "    # Filling Null Values with the column's mean\n",
    "    na_columns = df[very_numerical].isna().sum()\n",
    "    na_columns = na_columns[na_columns > 0]\n",
    "\n",
    "    na_columns_mean = {}\n",
    "    \n",
    "    # flag = True if train_params is None else False\n",
    "    \n",
    "    for nc in na_columns.index:\n",
    "        if train_params is None:\n",
    "            column_mean = df[nc].mean()\n",
    "\n",
    "            # Save mean\n",
    "            na_columns_mean[nc] = column_mean\n",
    "        else:\n",
    "            column_mean = train_params.na_columns_mean[nc]\n",
    "\n",
    "        df[nc].fillna(column_mean, inplace=True)\n",
    "\n",
    "\n",
    "    # Dropping and filling NA values for categorical columns:\n",
    "    # drop if at least 70% are NA:\n",
    "    # nul_cols = df[categorical_columns].isna().sum() / len(df)\n",
    "    # drop_us = nul_cols[nul_cols > 0.7]\n",
    "    # df = df.drop(drop_us.index, axis=1)\n",
    "    \n",
    "#     if flag:\n",
    "#         dropped_columns= [d for d in drop_us.keys()]\n",
    "#     else:\n",
    "#         if train_params.dropped_columns is not None:\n",
    "#             print(df)\n",
    "#             print(train_params.dropped_columns)\n",
    "#             print(df.columns.get_loc(train_params.dropped_columns[0]))\n",
    "#             df = df.drop(df.columns.get_loc(train_params.dropped_columns[0]), axis=1)\n",
    "#             # df = df.drop(df[train_params.dropped_columns[0]].index, axis=1)\n",
    "    \n",
    "    # Fill with a new 'na' category:\n",
    "    categorical_columns = list(set(categorical_columns))# - set(drop_us.index))\n",
    "    df[categorical_columns] = df[categorical_columns].fillna('na')\n",
    "\n",
    "    # Fill Null values in ordinals with a new '-1' ordinal:\n",
    "    df[ordinals] = df[ordinals].fillna(-1)\n",
    "    \n",
    "    df = df.copy()\n",
    "\n",
    "    # Bin numerical data\n",
    "    numerical_columns_cut = {}\n",
    "    for c in very_numerical:\n",
    "        if train_params is None:\n",
    "            try:\n",
    "                # df[c] = pd.qcut(df[c], 5, labels=[\"very low\", \"low\", \"medium\", \"high\", \"very high\"])\n",
    "                df[c], bins = pd.qcut(df[c], 5, labels=[1, 2, 3, 4, 5], retbins=True)\n",
    "            except:\n",
    "                # sometimes for highly skewed data, we cannot perform qcut as most quantiles are equal\n",
    "                # df[c] = pd.cut(df[c], 5, labels=[\"very low\", \"low\", \"medium\", \"high\", \"very high\"])\n",
    "                df[c], bins = pd.cut(df[c], 5, labels=[1, 2, 3, 4, 5], retbins=True)\n",
    "\n",
    "            # Make bin edges larger (infinity and -infinity)\n",
    "            bins = np.concatenate(([-np.inf], bins[1:-1], [np.inf]))\n",
    "\n",
    "            # Save bin\n",
    "            numerical_columns_cut[c] = bins\n",
    "            \n",
    "        else:\n",
    "            # Use existing train bins\n",
    "            bins = train_params.numerical_columns_cut[c]\n",
    "            df[c] = pd.cut(df[c], labels=[1, 2, 3, 4, 5], bins=bins)\n",
    "        \n",
    "    return df, TrainParams(na_columns_mean, numerical_columns_cut)#,[d for d in drop_us.keys()]\n",
    "\n",
    "df_train_prep, train_params = preprocess(df_train)\n",
    "# df_train_prep, train_params, dropped_columns = preprocess(df_train)\n",
    "# print (dropped_columns)\n",
    "\n",
    "# Focusing on prominent columns:\n",
    "good_columns = ['Genre', 'Languages', 'Series or Movie', 'Hidden Gem Score','Country Availability','Runtime',\n",
    "                'Director', 'Writer', 'View Rating', 'IMDb Score', 'Rotten Tomatoes Score','Metacritic Score',\n",
    "               'Awards Received','Awards Nominated For','Release Date','Netflix Release Date','IMDb Votes']\n",
    "                #if column not in dropped_columns]\n",
    "                #'Summary','Production House','Actors','Tags','Boxoffice',\n",
    "# TODO: Check where Amit took the good columns list from\n",
    "\n",
    "target_column = 'Hidden Gem Score' # TODO: What is the target column?? Is it Hidden Gem Score?\n",
    "\n",
    "one_hot_columns =  ['Genre','Languages','Series or Movie','Country Availability','Runtime','Director','Writer','View Rating',\n",
    "                  'Release Date','Netflix Release Date']#'Boxoffice',\n",
    "\n",
    "def split_X_y(df_prep: pd.DataFrame) -> Tuple[pd.DataFrame, pd.DataFrame]:\n",
    "    X_columns = list(set(good_columns) - {target_column})#-set(dropped_columns)\n",
    "    X = df_prep[X_columns]\n",
    "\n",
    "    for one_hot_column in one_hot_columns:\n",
    "        X = pd.concat([X, pd.get_dummies(X[one_hot_column], prefix=one_hot_column)], axis=1)\n",
    "        X = X.drop(columns=[one_hot_column])\n",
    "\n",
    "    y = df_prep[target_column]\n",
    "    \n",
    "    return X, y"
   ]
  },
  {
   "cell_type": "markdown",
   "metadata": {},
   "source": [
    "# Baseline"
   ]
  },
  {
   "cell_type": "code",
   "execution_count": null,
   "metadata": {
    "tags": []
   },
   "outputs": [],
   "source": [
    "from sklearn.linear_model import LogisticRegression\n",
    "from typing import Tuple\n",
    "\n",
    "X_train, y_train = split_X_y(df_train_prep)\n",
    "print(X_train.shape)\n",
    "X_val, y_val = split_X_y(preprocess(df_val, train_params)[0])\n",
    "print(X_val.shape)\n",
    "\n",
    "clf = LogisticRegression(random_state=0, max_iter=10000).fit(X_train, y_train)\n",
    "\n",
    "# TODO: Issue with different dropped columns in the train and in the validation."
   ]
  },
  {
   "cell_type": "code",
   "execution_count": null,
   "metadata": {
    "tags": []
   },
   "outputs": [],
   "source": [
    "print(f\"Train accuracy: {clf.score(X_train, y_train)}\")\n",
    "print(f\"Validation accuracy: {clf.score(X_val, y_val)}\")"
   ]
  },
  {
   "cell_type": "markdown",
   "metadata": {},
   "source": [
    "# Build model using rules"
   ]
  },
  {
   "cell_type": "code",
   "execution_count": null,
   "metadata": {
    "tags": []
   },
   "outputs": [],
   "source": [
    "from association_finder.concept_engineering import ConceptEngineering\n",
    "\n",
    "concept_engineering = ConceptEngineering()\n",
    "X_train_rules = concept_engineering.fit_transform(X_train, df_train_prep[good_columns], target_column, one_hot_columns)\n",
    "X_val_rules = concept_engineering.transform(X_val)\n",
    "\n",
    "clf_rules = LogisticRegression(random_state=0, max_iter=10000).fit(X_train_rules, y_train)\n",
    "\n",
    "print(f\"Train accuracy: {clf_rules.score(X_train_rules, y_train)}\")\n",
    "print(f\"Validation accuracy: {clf_rules.score(X_val_rules, y_val)}\")"
   ]
  },
  {
   "cell_type": "markdown",
   "metadata": {},
   "source": [
    "# Analyze concepts"
   ]
  },
  {
   "cell_type": "code",
   "execution_count": null,
   "metadata": {},
   "outputs": [],
   "source": [
    "pd.set_option(\"display.max_columns\", None)\n",
    "pd.set_option(\"display.max_rows\", 100)\n",
    "concept_engineering.concepts_df"
   ]
  }
 ],
 "metadata": {
  "kernelspec": {
   "display_name": "Python 3 (ipykernel)",
   "language": "python",
   "name": "python3"
  },
  "language_info": {
   "codemirror_mode": {
    "name": "ipython",
    "version": 3
   },
   "file_extension": ".py",
   "mimetype": "text/x-python",
   "name": "python",
   "nbconvert_exporter": "python",
   "pygments_lexer": "ipython3",
   "version": "3.8.12"
  }
 },
 "nbformat": 4,
 "nbformat_minor": 4
}
