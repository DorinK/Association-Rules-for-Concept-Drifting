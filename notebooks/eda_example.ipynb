{
 "cells": [
  {
   "cell_type": "markdown",
   "id": "f3d0c348-165b-4f1b-b26b-166a2cc790c6",
   "metadata": {},
   "source": [
    "# EDA example\n",
    "This notebook is an example of how to use our ConceptDriftsFinder tool as part of the EDA process."
   ]
  },
  {
   "cell_type": "markdown",
   "id": "b8ec0019-35fa-4b57-b404-111c1e4e2b2a",
   "metadata": {},
   "source": [
    "## Step 1 - Technical initialization\n",
    "We will start with a few technical dataset loading steps and notebook configuration.\n",
    "\n",
    "The dataset we will use in this example is the housing dataset. See more about the dataset in the README.md file, the accompayning pdf or the `datasets_config.py` file."
   ]
  },
  {
   "cell_type": "markdown",
   "id": "a1823cb5-1c6f-4ffe-b815-b5344e810db8",
   "metadata": {},
   "source": [
    "### Install necessary requirements"
   ]
  },
  {
   "cell_type": "code",
   "execution_count": null,
   "id": "9f9f15a3-80db-4244-b156-e2d1841cc6ca",
   "metadata": {},
   "outputs": [],
   "source": [
    "%pip install -r ../requirements.txt"
   ]
  },
  {
   "cell_type": "markdown",
   "id": "245cf007-5efe-4540-ad9f-24fed3ad4670",
   "metadata": {},
   "source": [
    "### Change working directory and add jupyter reload"
   ]
  },
  {
   "cell_type": "code",
   "execution_count": null,
   "id": "86630d35-91be-40c7-9d18-eaef7ef6246a",
   "metadata": {},
   "outputs": [],
   "source": [
    "# Change working directory to root\n",
    "import os\n",
    "if os.getcwd().endswith(\"notebooks\"):\n",
    "    %cd ..\n",
    "    print(os.getcwd())\n",
    "\n",
    "# Automatically reload changes in code\n",
    "%load_ext autoreload\n",
    "%autoreload 2"
   ]
  },
  {
   "cell_type": "markdown",
   "id": "f53a2e65-5526-408f-84a8-c463fc7ad69a",
   "metadata": {},
   "source": [
    "### Imports, logging and pandas configuration"
   ]
  },
  {
   "cell_type": "code",
   "execution_count": null,
   "id": "014bcb52-a9ba-423c-8b87-1258f2ff28f2",
   "metadata": {
    "tags": []
   },
   "outputs": [],
   "source": [
    "import logging\n",
    "from typing import List\n",
    "import pandas as pd\n",
    "from association_finder.concept_drifts_finder import ConceptDriftsFinder, convert_df_to_transactions\n",
    "from association_finder.models import Transaction, ConceptDriftResult\n",
    "from association_finder.concept_engineering import ConceptEngineering\n",
    "from association_finder.datasets_config import datasets_config\n",
    "from sklearn.model_selection import train_test_split\n",
    "from association_finder.preprocessing import preprocess_dataset, split_X_y\n",
    "from association_finder.one_vs_rest_classifier import OneVsRestClassifier, label_to_concept_transform_wrapper\n",
    "from typing import Dict, Tuple, Optional\n",
    "from dataclasses import dataclass\n",
    "import numpy as np\n",
    "from sklearn.linear_model import LogisticRegression\n",
    "from sklearn.metrics import accuracy_score\n",
    "\n",
    "# Logs config\n",
    "logging.basicConfig(level=logging.DEBUG)\n",
    "\n",
    "# Pandas config\n",
    "pd.set_option(\"display.max_columns\", None)\n",
    "pd.set_option(\"display.max_rows\", 100)"
   ]
  },
  {
   "cell_type": "markdown",
   "id": "d653c2b2-6228-4621-98a5-2ec7a547d71f",
   "metadata": {},
   "source": [
    "### Read, split and preprocess data"
   ]
  },
  {
   "cell_type": "code",
   "execution_count": null,
   "id": "fa5fecf5-9430-4231-b87c-6d1c558161c5",
   "metadata": {},
   "outputs": [],
   "source": [
    "np.random.seed(0)\n",
    "\n",
    "# Use housing dataset for the example\n",
    "dataset_config = datasets_config[\"housing\"]\n",
    "\n",
    "# Read file\n",
    "df = pd.read_csv(dataset_config[\"train_dataset_path\"], index_col=dataset_config['index_col'])\n",
    "target_column = dataset_config[\"target_column\"]\n",
    "\n",
    "# Drop rows with NaN values in the target column.\n",
    "df.drop(df[df[target_column].isna()].index,inplace=True)\n",
    "\n",
    "# Split\n",
    "df_train, df_val = train_test_split(df, test_size=0.3)\n",
    "\n",
    "# Preprocess    \n",
    "df_train_prep, train_params = preprocess_dataset(df_train)\n",
    "\n",
    "# Focusing on prominent columns:\n",
    "good_columns = [column for column in dataset_config[\"good_columns\"] if column not in train_params.dropped_columns]\n",
    "one_hot_columns = [column for column in dataset_config[\"one_hot_columns\"] if column not in train_params.dropped_columns]"
   ]
  },
  {
   "cell_type": "markdown",
   "id": "4fc8b299-d92b-45de-91e7-2000656dff02",
   "metadata": {},
   "source": [
    "## Step 2 - Using ConceptsDriftFinder\n",
    "We are now ready to start using ConceptsDriftFinder.\n",
    "\n",
    "Let's start by analyzing potential concept drifts. An immediate suspect would be the `YearBuilt` column."
   ]
  },
  {
   "cell_type": "code",
   "execution_count": null,
   "id": "ac8fd86e-d9dd-420f-86ff-4313b3ac3eb4",
   "metadata": {},
   "outputs": [],
   "source": [
    "transactions = convert_df_to_transactions(df_train_prep)\n",
    "ConceptDriftsFinder().find_concept_drifts(transactions, concept_column=\"YearBuilt\", target_column=target_column)"
   ]
  }
 ],
 "metadata": {
  "kernelspec": {
   "display_name": "eran_nlp_38",
   "language": "python",
   "name": "eran_nlp_38"
  },
  "language_info": {
   "codemirror_mode": {
    "name": "ipython",
    "version": 3
   },
   "file_extension": ".py",
   "mimetype": "text/x-python",
   "name": "python",
   "nbconvert_exporter": "python",
   "pygments_lexer": "ipython3",
   "version": "3.8.12"
  }
 },
 "nbformat": 4,
 "nbformat_minor": 5
}
