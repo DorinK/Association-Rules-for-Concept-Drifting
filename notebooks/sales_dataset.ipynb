{
 "cells": [
  {
   "cell_type": "markdown",
   "metadata": {
    "tags": []
   },
   "source": [
    "# Init\n"
   ]
  },
  {
   "cell_type": "markdown",
   "metadata": {},
   "source": [
    "### Install necessary requirements"
   ]
  },
  {
   "cell_type": "code",
   "execution_count": null,
   "metadata": {
    "tags": []
   },
   "outputs": [],
   "source": [
    "# Install necessary requirements\n",
    "%pip install -r ../requirements.txt"
   ]
  },
  {
   "cell_type": "markdown",
   "metadata": {},
   "source": [
    "### Change working directory and add jupyter reload"
   ]
  },
  {
   "cell_type": "code",
   "execution_count": null,
   "metadata": {},
   "outputs": [],
   "source": [
    "# Change working directory to root\n",
    "import os\n",
    "if os.getcwd().endswith(\"notebooks\"):\n",
    "    %cd ..\n",
    "    print(os.getcwd())\n",
    "\n",
    "# Automatically reload changes in code\n",
    "%load_ext autoreload\n",
    "%autoreload 2"
   ]
  },
  {
   "cell_type": "markdown",
   "metadata": {},
   "source": [
    "### Imports, logging and pandas configuration"
   ]
  },
  {
   "cell_type": "code",
   "execution_count": null,
   "metadata": {
    "tags": []
   },
   "outputs": [],
   "source": [
    "import logging\n",
    "from typing import List\n",
    "import pandas as pd\n",
    "from association_finder.concept_drifts_finder import ConceptDriftsFinder\n",
    "from association_finder.models import Transaction, ConceptDriftResult\n",
    "from association_finder.concept_engineering import ConceptEngineering\n",
    "from sklearn.model_selection import train_test_split\n",
    "from association_finder.preprocessing import preprocess_dataset, split_X_y\n",
    "from association_finder.one_vs_rest_classifier import OneVsRestClassifier, label_to_concept_transform_wrapper\n",
    "from typing import Dict, Tuple, Optional\n",
    "from dataclasses import dataclass\n",
    "import numpy as np\n",
    "from sklearn.linear_model import LogisticRegression\n",
    "from sklearn.metrics import accuracy_score\n",
    "\n",
    "# Logs config\n",
    "logging.basicConfig(level=logging.INFO)\n",
    "\n",
    "# Pandas config\n",
    "pd.set_option(\"display.max_columns\", None)\n",
    "pd.set_option(\"display.max_rows\", 100)"
   ]
  },
  {
   "cell_type": "markdown",
   "metadata": {},
   "source": [
    "# Read, split and preprocess data"
   ]
  },
  {
   "cell_type": "code",
   "execution_count": null,
   "metadata": {},
   "outputs": [],
   "source": [
    "np.random.seed(0)\n",
    "\n",
    "# Read file\n",
    "train_dataset_path = \"datasets/big_mart_sales/Train-Set.csv\"\n",
    "df = pd.read_csv(train_dataset_path, index_col='ProductID')\n",
    "target_column = \"OutletSales\"\n",
    "\n",
    "# Drop rows with NaN values in the target column.\n",
    "df.drop(df[df[target_column].isna()].index,inplace=True)\n",
    "\n",
    "# Split\n",
    "df_train, df_val = train_test_split(df, test_size=0.3)\n",
    "\n",
    "# Preprocess    \n",
    "df_train_prep, train_params = preprocess_dataset(df_train)\n",
    "\n",
    "# Focusing on prominent columns:\n",
    "good_columns = [column for column in ['Weight', 'FatContent', 'ProductVisibility', 'ProductType', 'MRP',\n",
    "                'OutletID', 'EstablishmentYear', 'OutletSize', 'LocationType', 'OutletType', 'OutletSales']\n",
    "                if column not in train_params.dropped_columns]\n",
    "one_hot_columns = [column for column in ['FatContent','ProductType','OutletID','OutletSize','LocationType','OutletType']\n",
    "                   if column not in train_params.dropped_columns]"
   ]
  },
  {
   "cell_type": "code",
   "execution_count": null,
   "metadata": {},
   "outputs": [],
   "source": [
    "# Prepare data for training\n",
    "X_train, y_train = split_X_y(df_train_prep, good_columns, train_params, one_hot_columns, target_column)\n",
    "X_val, y_val = split_X_y(preprocess_dataset(df_val, train_params)[0], good_columns, train_params, one_hot_columns, target_column)"
   ]
  },
  {
   "cell_type": "markdown",
   "metadata": {},
   "source": [
    "# Find rules and analyze them"
   ]
  },
  {
   "cell_type": "code",
   "execution_count": null,
   "metadata": {},
   "outputs": [],
   "source": [
    "# Find association rules\n",
    "concept_engineering = ConceptEngineering(min_confidence=0.1, min_support=0.1, diff_threshold=0.1, concept_drift_size_threshold=10)\n",
    "concept_engineering.fit(X_train, df_train_prep[good_columns], target_column, one_hot_columns)\n",
    "concept_engineering.concepts_df"
   ]
  },
  {
   "cell_type": "markdown",
   "metadata": {},
   "source": [
    "# Build models"
   ]
  },
  {
   "cell_type": "markdown",
   "metadata": {},
   "source": [
    "### Baseline model"
   ]
  },
  {
   "cell_type": "code",
   "execution_count": null,
   "metadata": {
    "tags": []
   },
   "outputs": [],
   "source": [
    "# Simple one vs rest classifier for baseline\n",
    "one_vs_rest_classifier = OneVsRestClassifier()"
   ]
  },
  {
   "cell_type": "code",
   "execution_count": null,
   "metadata": {
    "tags": []
   },
   "outputs": [],
   "source": [
    "y_train_pred = one_vs_rest_classifier.fit_transform(X_train, y_train)\n",
    "y_val_pred = one_vs_rest_classifier.transform(X_val)\n",
    "\n",
    "print(f\"Train accuracy: {accuracy_score(y_train, y_train_pred)}\")\n",
    "print(f\"Validation accuracy: {accuracy_score(y_val, y_val_pred)}\")"
   ]
  },
  {
   "cell_type": "markdown",
   "metadata": {},
   "source": [
    "# Build model using rules"
   ]
  },
  {
   "cell_type": "code",
   "execution_count": null,
   "metadata": {},
   "outputs": [],
   "source": [
    "# One vs rest classifier that uses rules (each label classifier uses its own rules)\n",
    "label_to_transformation = {label: label_to_concept_transform_wrapper(concept_engineering, target_column, label) for label in y_train.unique()}\n",
    "one_vs_rest_classifier = OneVsRestClassifier(label_to_transformation)"
   ]
  },
  {
   "cell_type": "code",
   "execution_count": null,
   "metadata": {
    "tags": []
   },
   "outputs": [],
   "source": [
    "y_train_pred = one_vs_rest_classifier.fit_transform(X_train, y_train)\n",
    "y_val_pred = one_vs_rest_classifier.transform(X_val)\n",
    "\n",
    "print(f\"Train accuracy: {accuracy_score(y_train, y_train_pred)}\")\n",
    "print(f\"Validation accuracy: {accuracy_score(y_val, y_val_pred)}\")"
   ]
  }
 ],
 "metadata": {
  "kernelspec": {
   "display_name": "Python 3 (ipykernel)",
   "language": "python",
   "name": "python3"
  },
  "language_info": {
   "codemirror_mode": {
    "name": "ipython",
    "version": 3
   },
   "file_extension": ".py",
   "mimetype": "text/x-python",
   "name": "python",
   "nbconvert_exporter": "python",
   "pygments_lexer": "ipython3",
   "version": "3.8.12"
  }
 },
 "nbformat": 4,
 "nbformat_minor": 4
}
