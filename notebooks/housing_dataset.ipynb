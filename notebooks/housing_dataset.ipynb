{
 "cells": [
  {
   "cell_type": "markdown",
   "id": "d68f1f74",
   "metadata": {},
   "source": [
    "# Init\n"
   ]
  },
  {
   "cell_type": "code",
   "execution_count": null,
   "id": "296b2768",
   "metadata": {
    "tags": []
   },
   "outputs": [],
   "source": [
    "# Install necessary requirements\n",
    "%pip install -r ../requirements.txt\n",
    "\n",
    "# Change working directory to root\n",
    "import os\n",
    "if os.getcwd().endswith(\"notebooks\"):\n",
    "    %cd ..\n",
    "    print(os.getcwd())\n",
    "\n",
    "# Automatically reload changes in code\n",
    "%load_ext autoreload\n",
    "%autoreload 2"
   ]
  },
  {
   "cell_type": "code",
   "execution_count": null,
   "id": "4af51f54",
   "metadata": {},
   "outputs": [],
   "source": [
    "import logging\n",
    "from typing import List\n",
    "import pandas as pd\n",
    "from association_finder.concept_drifts_finder import ConceptDriftsFinder\n",
    "from association_finder.models import Transaction, ConceptDriftResult\n",
    "from association_finder.concept_engineering import ConceptEngineering\n",
    "from sklearn.model_selection import train_test_split\n",
    "from association_finder.preprocessing import preprocess_dataset, split_X_y\n",
    "from typing import Dict, Tuple, Optional\n",
    "from dataclasses import dataclass\n",
    "import numpy as np\n",
    "from sklearn.linear_model import LogisticRegression\n",
    "\n",
    "\n",
    "logging.basicConfig(level=logging.INFO)"
   ]
  },
  {
   "cell_type": "markdown",
   "id": "8bebdb34",
   "metadata": {},
   "source": [
    "# Read and parse file"
   ]
  },
  {
   "cell_type": "code",
   "execution_count": null,
   "id": "bf46346c",
   "metadata": {},
   "outputs": [],
   "source": [
    "np.random.seed(0)\n",
    "\n",
    "# Read file\n",
    "train_dataset_path = \"datasets/houseprices/train.csv\"\n",
    "df = pd.read_csv(train_dataset_path, index_col='Id')\n",
    "\n",
    "# Split\n",
    "df_train, df_val = train_test_split(df, test_size=0.3)\n",
    "\n",
    "# Preprocess    \n",
    "df_train_prep, train_params = preprocess_dataset(df_train)\n",
    "\n",
    "# Focusing on prominent columns:\n",
    "good_columns = [column for column in ['OverallQual', 'YearBuilt', 'YearRemodAdd', 'OverallCond', 'BldgType', 'LotArea',\n",
    "                'GrLivArea', 'FullBath', 'BedroomAbvGr', 'LotFrontage', 'TotalBsmtSF', 'SalePrice'] if column not in \n",
    "                train_params.dropped_columns]\n",
    "target_column = \"SalePrice\"\n",
    "one_hot_columns = [column for column in ['BldgType'] if column not in train_params.dropped_columns]\n"
   ]
  },
  {
   "cell_type": "code",
   "execution_count": null,
   "id": "7f9d2b1c-792d-4666-a068-78e2fc502c99",
   "metadata": {},
   "outputs": [],
   "source": [
    "# Prepare data for training\n",
    "X_train, y_train = split_X_y(df_train_prep, good_columns, train_params, one_hot_columns, target_column)\n",
    "X_val, y_val = split_X_y(preprocess_dataset(df_val, train_params)[0], good_columns, train_params, one_hot_columns, target_column)"
   ]
  },
  {
   "cell_type": "markdown",
   "id": "d8e4075e",
   "metadata": {},
   "source": [
    "# Baseline"
   ]
  },
  {
   "cell_type": "code",
   "execution_count": null,
   "id": "cd9a7c9d",
   "metadata": {
    "tags": []
   },
   "outputs": [],
   "source": [
    "# Train baseline model\n",
    "clf = LogisticRegression(random_state=0, max_iter=10000).fit(X_train, y_train)"
   ]
  },
  {
   "cell_type": "code",
   "execution_count": null,
   "id": "6549b15f",
   "metadata": {
    "tags": []
   },
   "outputs": [],
   "source": [
    "print(f\"Train accuracy: {clf.score(X_train, y_train)}\")\n",
    "print(f\"Validation accuracy: {clf.score(X_val, y_val)}\")\n",
    "\n",
    "# Expected:\n",
    "# Train accuracy: 0.6976516634050881\n",
    "# Validation accuracy: 0.6598173515981736"
   ]
  },
  {
   "cell_type": "markdown",
   "id": "50838547",
   "metadata": {},
   "source": [
    "# Build model using rules"
   ]
  },
  {
   "cell_type": "code",
   "execution_count": null,
   "id": "a2a1ffa4",
   "metadata": {
    "tags": []
   },
   "outputs": [],
   "source": [
    "# Find association rules\n",
    "concept_engineering = ConceptEngineering()\n",
    "X_train_rules = concept_engineering.fit_transform(X_train, df_train_prep[good_columns], target_column, one_hot_columns)\n",
    "X_val_rules = concept_engineering.transform(X_val)"
   ]
  },
  {
   "cell_type": "code",
   "execution_count": null,
   "id": "a1fbf192-0555-460e-8ade-0510fc3e8c13",
   "metadata": {},
   "outputs": [],
   "source": [
    "# Train model using association rules\n",
    "clf_rules = LogisticRegression(random_state=0, max_iter=10000).fit(X_train_rules, y_train)"
   ]
  },
  {
   "cell_type": "code",
   "execution_count": null,
   "id": "740387c9-4021-4a2c-a0e6-dab1b7979be1",
   "metadata": {},
   "outputs": [],
   "source": [
    "print(f\"Train accuracy: {clf_rules.score(X_train_rules, y_train)}\")\n",
    "print(f\"Validation accuracy: {clf_rules.score(X_val_rules, y_val)}\")\n",
    "\n",
    "# Previously:\n",
    "# Train accuracy: 0.6966731898238747\n",
    "# Validation accuracy: 0.6666666666666666\n",
    "\n",
    "# Expected after fixing weight:\n",
    "# Train accuracy: 0.6986301369863014\n",
    "# Validation accuracy: 0.6689497716894978"
   ]
  },
  {
   "cell_type": "markdown",
   "id": "ff87c0e0",
   "metadata": {},
   "source": [
    "# Analyze concepts"
   ]
  },
  {
   "cell_type": "code",
   "execution_count": null,
   "id": "aa10eafb",
   "metadata": {},
   "outputs": [],
   "source": [
    "pd.set_option(\"display.max_columns\", None)\n",
    "pd.set_option(\"display.max_rows\", 100)\n",
    "concept_engineering.concepts_df"
   ]
  },
  {
   "cell_type": "markdown",
   "id": "3af69f2b-a6d5-44b9-ac63-abb3ee5258ff",
   "metadata": {},
   "source": [
    "### Error analysis"
   ]
  },
  {
   "cell_type": "code",
   "execution_count": null,
   "id": "e6ae9929-2b99-4ee7-bb02-386d3012e7d8",
   "metadata": {
    "tags": []
   },
   "outputs": [],
   "source": [
    "pred_df = pd.DataFrame(zip(clf_rules.predict(X_train_rules), y_train), columns=['predict', 'actual'], index=X_train.index)\n",
    "pred_df = pd.merge(pred_df, X_train_rules, left_index=True, right_index=True)\n",
    "errors_df = pred_df[pred_df['predict'] != pred_df['actual']]\n",
    "errors_df[:50]"
   ]
  },
  {
   "cell_type": "markdown",
   "id": "a22499a4-3b44-4b1f-93c3-6d6f5f659fc5",
   "metadata": {},
   "source": [
    "### Model coefficients analysis"
   ]
  },
  {
   "cell_type": "code",
   "execution_count": null,
   "id": "d3cdc22f-1e36-401b-b906-a70971703c9f",
   "metadata": {
    "tags": []
   },
   "outputs": [],
   "source": [
    "list(enumerate(sorted(list(zip(clf.coef_[3], X_train.columns)))))"
   ]
  },
  {
   "cell_type": "code",
   "execution_count": null,
   "id": "889d3b70-03e9-4af9-b449-7a6ac601d59a",
   "metadata": {
    "tags": []
   },
   "outputs": [],
   "source": [
    "list(enumerate(sorted(list(zip(clf_rules.coef_[3], X_train.columns)))))"
   ]
  }
 ],
 "metadata": {
  "kernelspec": {
   "display_name": "Python 3 (ipykernel)",
   "language": "python",
   "name": "python3"
  },
  "language_info": {
   "codemirror_mode": {
    "name": "ipython",
    "version": 3
   },
   "file_extension": ".py",
   "mimetype": "text/x-python",
   "name": "python",
   "nbconvert_exporter": "python",
   "pygments_lexer": "ipython3",
   "version": "3.8.12"
  }
 },
 "nbformat": 4,
 "nbformat_minor": 5
}
