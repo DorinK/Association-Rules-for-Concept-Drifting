{
 "cells": [
  {
   "cell_type": "markdown",
   "id": "d68f1f74",
   "metadata": {},
   "source": [
    "# Init\n"
   ]
  },
  {
   "cell_type": "markdown",
   "id": "e2666b3c-c651-45ba-85bb-236279845840",
   "metadata": {},
   "source": [
    "### Install necessary requirements"
   ]
  },
  {
   "cell_type": "code",
   "execution_count": null,
   "id": "e68768c3-f933-4b8b-bd9f-5bd548c08dbb",
   "metadata": {},
   "outputs": [],
   "source": [
    "%pip install -r ../requirements.txt"
   ]
  },
  {
   "cell_type": "markdown",
   "id": "01ea9b92-6089-4ea1-ad80-d8963977b0a6",
   "metadata": {},
   "source": [
    "### Change working directory and add jupyter reload"
   ]
  },
  {
   "cell_type": "code",
   "execution_count": null,
   "id": "296b2768",
   "metadata": {
    "tags": []
   },
   "outputs": [],
   "source": [
    "# Change working directory to root\n",
    "import os\n",
    "if os.getcwd().endswith(\"notebooks\"):\n",
    "    %cd ..\n",
    "    print(os.getcwd())\n",
    "\n",
    "# Automatically reload changes in code\n",
    "%load_ext autoreload\n",
    "%autoreload 2"
   ]
  },
  {
   "cell_type": "markdown",
   "id": "1b045b6a-e402-48ca-9b05-de59b98aa41c",
   "metadata": {},
   "source": [
    "### Imports, logging and pandas configuration"
   ]
  },
  {
   "cell_type": "code",
   "execution_count": null,
   "id": "4af51f54",
   "metadata": {},
   "outputs": [],
   "source": [
    "import logging\n",
    "from typing import List\n",
    "import pandas as pd\n",
    "from association_finder.concept_drifts_finder import ConceptDriftsFinder\n",
    "from association_finder.models import Transaction, ConceptDriftResult\n",
    "from association_finder.concept_engineering import ConceptEngineering\n",
    "from sklearn.model_selection import train_test_split\n",
    "from association_finder.preprocessing import preprocess_dataset, split_X_y\n",
    "from association_finder.one_vs_rest_classifier import OneVsRestClassifier, label_to_concept_transform_wrapper\n",
    "from typing import Dict, Tuple, Optional\n",
    "from dataclasses import dataclass\n",
    "import numpy as np\n",
    "from sklearn.linear_model import LogisticRegression\n",
    "from sklearn.metrics import accuracy_score\n",
    "\n",
    "# Logs config\n",
    "logging.basicConfig(level=logging.INFO)\n",
    "\n",
    "# Pandas config\n",
    "pd.set_option(\"display.max_columns\", None)\n",
    "pd.set_option(\"display.max_rows\", 100)"
   ]
  },
  {
   "cell_type": "markdown",
   "id": "8bebdb34",
   "metadata": {},
   "source": [
    "# Read, split and preprocess data"
   ]
  },
  {
   "cell_type": "code",
   "execution_count": null,
   "id": "bf46346c",
   "metadata": {},
   "outputs": [],
   "source": [
    "np.random.seed(0)\n",
    "\n",
    "# Read file\n",
    "train_dataset_path = \"datasets/houseprices/train.csv\"\n",
    "df = pd.read_csv(train_dataset_path, index_col='Id')\n",
    "target_column = \"SalePrice\"\n",
    "\n",
    "# Drop rows with NaN values in the target column.\n",
    "df.drop(df[df[target_column].isna()].index,inplace=True)\n",
    "\n",
    "# Split\n",
    "df_train, df_val = train_test_split(df, test_size=0.3)\n",
    "\n",
    "# Preprocess    \n",
    "df_train_prep, train_params = preprocess_dataset(df_train)\n",
    "\n",
    "# Focusing on prominent columns:\n",
    "good_columns = [column for column in ['OverallQual', 'YearBuilt', 'YearRemodAdd', 'OverallCond', 'BldgType', 'LotArea',\n",
    "                'GrLivArea', 'FullBath', 'BedroomAbvGr', 'LotFrontage', 'TotalBsmtSF', 'SalePrice'] if column not in \n",
    "                train_params.dropped_columns]\n",
    "one_hot_columns = [column for column in ['BldgType'] if column not in train_params.dropped_columns]\n"
   ]
  },
  {
   "cell_type": "code",
   "execution_count": null,
   "id": "7f9d2b1c-792d-4666-a068-78e2fc502c99",
   "metadata": {},
   "outputs": [],
   "source": [
    "# Prepare data for training\n",
    "X_train, y_train = split_X_y(df_train_prep, good_columns, train_params, one_hot_columns, target_column)\n",
    "X_val, y_val = split_X_y(preprocess_dataset(df_val, train_params)[0], good_columns, train_params, one_hot_columns, target_column)"
   ]
  },
  {
   "cell_type": "markdown",
   "id": "83204ff8-bbaa-4640-96d1-086ad123c9af",
   "metadata": {},
   "source": [
    "# Find rules and analyze them"
   ]
  },
  {
   "cell_type": "code",
   "execution_count": null,
   "id": "a2a1ffa4",
   "metadata": {
    "tags": []
   },
   "outputs": [],
   "source": [
    "# Find association rules\n",
    "concept_engineering = ConceptEngineering()\n",
    "concept_engineering.fit(X_train, df_train_prep[good_columns], target_column, one_hot_columns)\n",
    "concept_engineering.concepts_df"
   ]
  },
  {
   "cell_type": "markdown",
   "id": "8003d16d-79dc-43ec-89a9-6cee0083bcc3",
   "metadata": {},
   "source": [
    "# Build models"
   ]
  },
  {
   "cell_type": "markdown",
   "id": "d8e4075e",
   "metadata": {},
   "source": [
    "### Baseline model"
   ]
  },
  {
   "cell_type": "code",
   "execution_count": null,
   "id": "6549b15f",
   "metadata": {
    "tags": []
   },
   "outputs": [],
   "source": [
    "# Simple one vs rest classifier for baseline\n",
    "one_vs_rest_classifier = OneVsRestClassifier()"
   ]
  },
  {
   "cell_type": "code",
   "execution_count": null,
   "id": "b83c8bc0-8604-40c4-82cc-087f031b530a",
   "metadata": {},
   "outputs": [],
   "source": [
    "y_train_pred = one_vs_rest_classifier.fit_transform(X_train, y_train)\n",
    "y_val_pred = one_vs_rest_classifier.transform(X_val)\n",
    "\n",
    "print(f\"Train accuracy: {accuracy_score(y_train, y_train_pred)}\")\n",
    "print(f\"Validation accuracy: {accuracy_score(y_val, y_val_pred)}\")"
   ]
  },
  {
   "cell_type": "markdown",
   "id": "50838547",
   "metadata": {},
   "source": [
    "### Model using rules"
   ]
  },
  {
   "cell_type": "code",
   "execution_count": null,
   "id": "24962847-fec2-474f-b824-fd867e7fad4c",
   "metadata": {
    "tags": []
   },
   "outputs": [],
   "source": [
    "# One vs rest classifier that uses rules (each label classifier uses its own rules)\n",
    "label_to_transformation = {label: label_to_concept_transform_wrapper(concept_engineering, target_column, label) for label in y_train.unique()}\n",
    "one_vs_rest_classifier = OneVsRestClassifier(label_to_transformation)"
   ]
  },
  {
   "cell_type": "code",
   "execution_count": null,
   "id": "7bb13c41-52a5-4682-ab8a-89c4ed5bc4da",
   "metadata": {},
   "outputs": [],
   "source": [
    "y_train_pred = one_vs_rest_classifier.fit_transform(X_train, y_train)\n",
    "y_val_pred = one_vs_rest_classifier.transform(X_val)\n",
    "\n",
    "print(f\"Train accuracy: {accuracy_score(y_train, y_train_pred)}\")\n",
    "print(f\"Validation accuracy: {accuracy_score(y_val, y_val_pred)}\")"
   ]
  },
  {
   "cell_type": "markdown",
   "id": "3af69f2b-a6d5-44b9-ac63-abb3ee5258ff",
   "metadata": {},
   "source": [
    "### Error analysis"
   ]
  },
  {
   "cell_type": "code",
   "execution_count": null,
   "id": "e6ae9929-2b99-4ee7-bb02-386d3012e7d8",
   "metadata": {
    "tags": []
   },
   "outputs": [],
   "source": [
    "pred_df = pd.DataFrame(zip(clf_rules.predict(X_train_rules), y_train), columns=['predict', 'actual'], index=X_train.index)\n",
    "pred_df = pd.merge(pred_df, X_train_rules, left_index=True, right_index=True)\n",
    "errors_df = pred_df[pred_df['predict'] != pred_df['actual']]\n",
    "errors_df[:50]\n",
    "\n",
    "print(errors_df[errors_df['actual'] == 5].shape)   # 32 when saleprice: 5, 26 when saleprice: 1\n",
    "print(errors_df[errors_df['actual'] == 1].shape)   # 49 when saleprice: 5: 49 when saleprice: 1\n",
    "# errors_df[errors_df['actual'] == 1]"
   ]
  },
  {
   "cell_type": "code",
   "execution_count": null,
   "id": "92bb5bbf-1859-4945-8563-bcada02f681f",
   "metadata": {},
   "outputs": [],
   "source": [
    "pred_df = pd.DataFrame(zip(clf.predict(X_train), y_train), columns=['predict', 'actual'], index=X_train.index)\n",
    "pred_df = pd.merge(pred_df, X_train, left_index=True, right_index=True)\n",
    "errors_df = pred_df[pred_df['predict'] != pred_df['actual']]\n",
    "errors_df[:50]\n",
    "\n",
    "print(errors_df[errors_df['actual'] == 5].shape)   # 30\n",
    "print(errors_df[errors_df['actual'] == 1].shape)   # 46\n",
    "\n",
    "\n",
    "print(errors_df[errors_df['predict'] == 5].shape)   # 30\n",
    "print(errors_df[errors_df['predict'] == 1].shape)   # 46\n"
   ]
  },
  {
   "cell_type": "markdown",
   "id": "a22499a4-3b44-4b1f-93c3-6d6f5f659fc5",
   "metadata": {},
   "source": [
    "### Model coefficients analysis"
   ]
  },
  {
   "cell_type": "code",
   "execution_count": null,
   "id": "d3cdc22f-1e36-401b-b906-a70971703c9f",
   "metadata": {
    "tags": []
   },
   "outputs": [],
   "source": [
    "list(enumerate(sorted(list(zip(clf.coef_[3], X_train.columns)))))"
   ]
  },
  {
   "cell_type": "code",
   "execution_count": null,
   "id": "889d3b70-03e9-4af9-b449-7a6ac601d59a",
   "metadata": {
    "tags": []
   },
   "outputs": [],
   "source": [
    "list(enumerate(sorted(list(zip(clf_rules.coef_[3], X_train.columns)))))"
   ]
  }
 ],
 "metadata": {
  "kernelspec": {
   "display_name": "Python 3 (ipykernel)",
   "language": "python",
   "name": "python3"
  },
  "language_info": {
   "codemirror_mode": {
    "name": "ipython",
    "version": 3
   },
   "file_extension": ".py",
   "mimetype": "text/x-python",
   "name": "python",
   "nbconvert_exporter": "python",
   "pygments_lexer": "ipython3",
   "version": "3.8.12"
  }
 },
 "nbformat": 4,
 "nbformat_minor": 5
}
