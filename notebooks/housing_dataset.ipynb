{
 "cells": [
  {
   "cell_type": "markdown",
   "id": "e3afbb56-ede7-4cf5-b025-cd39c9f7f7cb",
   "metadata": {},
   "source": [
    "# Init\n"
   ]
  },
  {
   "cell_type": "code",
   "execution_count": null,
   "id": "af74de10-a0c5-4b4b-b97d-5968d42b4824",
   "metadata": {
    "tags": []
   },
   "outputs": [],
   "source": [
    "# Install necessary requirements\n",
    "%pip install -r requirements.txt\n",
    "\n",
    "# Change working directory to root\n",
    "import os\n",
    "if os.getcwd().endswith(\"notebooks\"):\n",
    "    %cd ..\n",
    "    print(os.getcwd())\n",
    "\n",
    "# Automatically reload changes in code\n",
    "%load_ext autoreload\n",
    "%autoreload 2"
   ]
  },
  {
   "cell_type": "code",
   "execution_count": null,
   "id": "c7caa03e-fead-4ea4-8532-978b947bcb0e",
   "metadata": {},
   "outputs": [],
   "source": [
    "import logging\n",
    "from typing import List\n",
    "\n",
    "import pandas as pd\n",
    "\n",
    "from association_finder.concept_drifts_finder import ConceptDriftsFinder\n",
    "from association_finder.models import Transaction, ConceptDriftResult\n",
    "logging.basicConfig()"
   ]
  },
  {
   "cell_type": "markdown",
   "id": "5e4c2f29-d796-4c19-b1b6-68bb59f76ecc",
   "metadata": {},
   "source": [
    "# Read and parse file"
   ]
  },
  {
   "cell_type": "code",
   "execution_count": null,
   "id": "13dbb0c5-cb08-45a2-b8a2-281e7f52c6de",
   "metadata": {},
   "outputs": [],
   "source": [
    "dataset_path = \"datasets/houseprices/train.csv\"\n",
    "dtf = pd.read_csv(dataset_path, index_col='Id')\n",
    "\n",
    "# Defining numeric and categorical columns\n",
    "numeric_columns = dtf.dtypes[(dtf.dtypes == \"float64\") | (dtf.dtypes == \"int64\")].index.tolist()\n",
    "very_numerical = [nc for nc in numeric_columns if dtf[nc].nunique() > 20]\n",
    "categorical_columns = [c for c in dtf.columns if c not in numeric_columns]\n",
    "ordinals = list(set(numeric_columns) - set(very_numerical))\n",
    "\n",
    "# Filling Null Values with the column's mean\n",
    "na_columns = dtf[very_numerical].isna().sum()\n",
    "na_columns = na_columns[na_columns > 0]\n",
    "for nc in na_columns.index:\n",
    "    dtf[nc].fillna(dtf[nc].mean(), inplace=True)\n",
    "\n",
    "# Dropping and filling NA values for categorical columns:\n",
    "# drop if at least 70% are NA:\n",
    "nul_cols = dtf[categorical_columns].isna().sum() / len(dtf)\n",
    "drop_us = nul_cols[nul_cols > 0.7]\n",
    "dtf = dtf.drop(drop_us.index, axis=1)\n",
    "\n",
    "# Fill with a new 'na' category:\n",
    "categorical_columns = list(set(categorical_columns) - set(drop_us.index))\n",
    "dtf[categorical_columns] = dtf[categorical_columns].fillna('na')\n",
    "\n",
    "df = dtf.copy()\n",
    "\n",
    "# Bin numerical data\n",
    "for c in very_numerical:\n",
    "    try:\n",
    "        # df[c] = pd.qcut(dtf[c], 5, labels=[\"very low\", \"low\", \"medium\", \"high\", \"very high\"])\n",
    "        df[c] = pd.qcut(dtf[c], 5, labels=[1, 2, 3, 4, 5])\n",
    "    except:\n",
    "        # sometimes for highly skewed data, we cannot perform qcut as most quantiles are equal\n",
    "        # df[c] = pd.cut(dtf[c], 5, labels=[\"very low\", \"low\", \"medium\", \"high\", \"very high\"])\n",
    "        df[c] = pd.cut(dtf[c], 5, labels=[1, 2, 3, 4, 5])\n"
   ]
  },
  {
   "cell_type": "markdown",
   "id": "a137dbcb-658c-4d1a-8493-43de2b6e743c",
   "metadata": {},
   "source": [
    "# Find rules"
   ]
  },
  {
   "cell_type": "code",
   "execution_count": null,
   "id": "0d387654-987f-4b56-8e10-c68196ad1eaf",
   "metadata": {},
   "outputs": [],
   "source": [
    "# Focusing on prominent columns:\n",
    "good_columns = ['OverallQual', 'YearBuilt', 'YearRemodAdd', 'OverallQual', 'OverallCond', 'BldgType', 'LotArea',\n",
    "                'GrLivArea', 'FullBath', 'BedroomAbvGr', 'LotFrontage', 'TotalBsmtSF', 'SalePrice']\n",
    "\n",
    "target_column = \"SalePrice\"\n",
    "\n",
    "# We need to convert our dataframe to a list of transactions\n",
    "records = df[good_columns].to_dict(orient='records')\n",
    "transactions = []\n",
    "for r in records:\n",
    "    transactions.append(Transaction({k: v for k, v in r.items()}))\n",
    "\n",
    "potential_concept_columns = good_columns.copy()\n",
    "potential_concept_columns.remove(target_column)\n",
    "for concept_column in potential_concept_columns:\n",
    "    try:\n",
    "        print(f\"Starting concept column '{concept_column}'\")\n",
    "        \n",
    "        # Run the ConceptDriftsFinder\n",
    "        concepts: List[ConceptDriftResult] = ConceptDriftsFinder().find_concept_drifts(transactions, concept_column,\n",
    "                                                                                       target_column, min_confidence=0.4,\n",
    "                                                                                       min_support=0.4, diff_threshold=0.1)\n",
    "\n",
    "        # Convert to dataframe\n",
    "        concepts_df = pd.DataFrame([x.to_dict() for x in concepts])\n",
    "\n",
    "        # Print dataframe\n",
    "        pd.set_option(\"display.max_columns\", 20)\n",
    "        print(concepts_df.head())\n",
    "    except:\n",
    "        print(f\"Failed concept column '{concept_column}'\")\n",
    "        # logging.exception(f\"Failed concept column {concept_column}\")\n"
   ]
  }
 ],
 "metadata": {
  "kernelspec": {
   "display_name": "eran_nlp_38",
   "language": "python",
   "name": "eran_nlp_38"
  },
  "language_info": {
   "codemirror_mode": {
    "name": "ipython",
    "version": 3
   },
   "file_extension": ".py",
   "mimetype": "text/x-python",
   "name": "python",
   "nbconvert_exporter": "python",
   "pygments_lexer": "ipython3",
   "version": "3.8.12"
  }
 },
 "nbformat": 4,
 "nbformat_minor": 5
}
